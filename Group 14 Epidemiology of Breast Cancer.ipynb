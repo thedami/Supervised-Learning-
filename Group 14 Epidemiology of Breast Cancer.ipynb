{
 "cells": [
  {
   "cell_type": "code",
   "execution_count": null,
   "id": "9a174766",
   "metadata": {},
   "outputs": [],
   "source": [
    "##performed analysis on a breast cancer dataset gotten from CBioPortal, and developed 4 supervised learning models to predict\n",
    "##if a patient has breast cancer based on some of the features available."
   ]
  },
  {
   "cell_type": "code",
   "execution_count": 163,
   "id": "212ca632",
   "metadata": {},
   "outputs": [
    {
     "name": "stdout",
     "output_type": "stream",
     "text": [
      "<class 'pandas.core.frame.DataFrame'>\n",
      "Int64Index: 1092 entries, 1 to 1743\n",
      "Data columns (total 29 columns):\n",
      " #   Column                         Non-Null Count  Dtype   \n",
      "---  ------                         --------------  -----   \n",
      " 0   Study ID                       1092 non-null   object  \n",
      " 1   Patient ID                     1092 non-null   object  \n",
      " 2   Sample ID                      1092 non-null   object  \n",
      " 3   Age at Diagnosis               1092 non-null   float64 \n",
      " 4   Type of Breast Surgery         1092 non-null   object  \n",
      " 5   Cellularity                    1092 non-null   int8    \n",
      " 6   Chemotherapy                   1092 non-null   object  \n",
      " 7   ER Status                      1092 non-null   int8    \n",
      " 8   Neoplasm Histologic Grade      1092 non-null   float64 \n",
      " 9   HER2 Status                    1092 non-null   int8    \n",
      " 10  Hormone Therapy                1092 non-null   int8    \n",
      " 11  Inferred Menopausal State      1092 non-null   int8    \n",
      " 12  Primary Tumor Laterality       1092 non-null   object  \n",
      " 13  Lymph nodes examined positive  1092 non-null   float64 \n",
      " 14  Mutation Count                 1092 non-null   float64 \n",
      " 15  Nottingham prognostic index    1092 non-null   float64 \n",
      " 16  Overall Survival (Months)      1092 non-null   float64 \n",
      " 17  Overall Survival Status        1092 non-null   int8    \n",
      " 18  PR Status                      1092 non-null   int8    \n",
      " 19  Radio Therapy                  1092 non-null   int8    \n",
      " 20  Relapse Free Status (Months)   1092 non-null   float64 \n",
      " 21  Relapse Free Status            1092 non-null   category\n",
      " 22  Number of Samples Per Patient  1092 non-null   int64   \n",
      " 23  Sample Type                    1092 non-null   object  \n",
      " 24  Sex                            1092 non-null   object  \n",
      " 25  TMB (nonsynonymous)            1092 non-null   float64 \n",
      " 26  Tumor Size                     1092 non-null   float64 \n",
      " 27  Tumor Stage                    1092 non-null   float64 \n",
      " 28  Patient's Vital Status         1092 non-null   int8    \n",
      "dtypes: category(1), float64(10), int64(1), int8(9), object(8)\n",
      "memory usage: 213.7+ KB\n",
      "None\n"
     ]
    }
   ],
   "source": [
    "from scipy.stats import pearsonr\n",
    "import pandas as pd\n",
    "\n",
    "df = pd.read_excel('clinical.xlsx')\n",
    "# df.head()\n",
    "# df.isna()\n",
    "# print(df)\n",
    "# newdf= df.dropna()\n",
    "# print(\"The length is: \",len(df))\n",
    "# print(\"The length is: \",len(newdf))\n",
    "# newdf.isna()\n",
    "\n",
    "print(newdf.info())"
   ]
  },
  {
   "cell_type": "code",
   "execution_count": 164,
   "id": "cb5eb1f6",
   "metadata": {},
   "outputs": [
    {
     "data": {
      "text/html": [
       "<div>\n",
       "<style scoped>\n",
       "    .dataframe tbody tr th:only-of-type {\n",
       "        vertical-align: middle;\n",
       "    }\n",
       "\n",
       "    .dataframe tbody tr th {\n",
       "        vertical-align: top;\n",
       "    }\n",
       "\n",
       "    .dataframe thead th {\n",
       "        text-align: right;\n",
       "    }\n",
       "</style>\n",
       "<table border=\"1\" class=\"dataframe\">\n",
       "  <thead>\n",
       "    <tr style=\"text-align: right;\">\n",
       "      <th></th>\n",
       "      <th>Study ID</th>\n",
       "      <th>Patient ID</th>\n",
       "      <th>Sample ID</th>\n",
       "      <th>Age at Diagnosis</th>\n",
       "      <th>Type of Breast Surgery</th>\n",
       "      <th>Cellularity</th>\n",
       "      <th>Chemotherapy</th>\n",
       "      <th>ER Status</th>\n",
       "      <th>Neoplasm Histologic Grade</th>\n",
       "      <th>HER2 Status</th>\n",
       "      <th>...</th>\n",
       "      <th>Radio Therapy</th>\n",
       "      <th>Relapse Free Status (Months)</th>\n",
       "      <th>Relapse Free Status</th>\n",
       "      <th>Number of Samples Per Patient</th>\n",
       "      <th>Sample Type</th>\n",
       "      <th>Sex</th>\n",
       "      <th>TMB (nonsynonymous)</th>\n",
       "      <th>Tumor Size</th>\n",
       "      <th>Tumor Stage</th>\n",
       "      <th>Patient's Vital Status</th>\n",
       "    </tr>\n",
       "  </thead>\n",
       "  <tbody>\n",
       "    <tr>\n",
       "      <th>1</th>\n",
       "      <td>brca_metabric</td>\n",
       "      <td>MB-0002</td>\n",
       "      <td>MB-0002</td>\n",
       "      <td>43.19</td>\n",
       "      <td>BREAST CONSERVING</td>\n",
       "      <td>0</td>\n",
       "      <td>NO</td>\n",
       "      <td>1</td>\n",
       "      <td>3.0</td>\n",
       "      <td>0</td>\n",
       "      <td>...</td>\n",
       "      <td>1</td>\n",
       "      <td>83.52</td>\n",
       "      <td>0</td>\n",
       "      <td>1</td>\n",
       "      <td>Primary</td>\n",
       "      <td>Female</td>\n",
       "      <td>2.615035</td>\n",
       "      <td>10.0</td>\n",
       "      <td>1.0</td>\n",
       "      <td>1</td>\n",
       "    </tr>\n",
       "    <tr>\n",
       "      <th>4</th>\n",
       "      <td>brca_metabric</td>\n",
       "      <td>MB-0008</td>\n",
       "      <td>MB-0008</td>\n",
       "      <td>76.97</td>\n",
       "      <td>MASTECTOMY</td>\n",
       "      <td>0</td>\n",
       "      <td>YES</td>\n",
       "      <td>1</td>\n",
       "      <td>3.0</td>\n",
       "      <td>0</td>\n",
       "      <td>...</td>\n",
       "      <td>1</td>\n",
       "      <td>18.55</td>\n",
       "      <td>1</td>\n",
       "      <td>1</td>\n",
       "      <td>Primary</td>\n",
       "      <td>Female</td>\n",
       "      <td>2.615035</td>\n",
       "      <td>40.0</td>\n",
       "      <td>2.0</td>\n",
       "      <td>0</td>\n",
       "    </tr>\n",
       "    <tr>\n",
       "      <th>5</th>\n",
       "      <td>brca_metabric</td>\n",
       "      <td>MB-0010</td>\n",
       "      <td>MB-0010</td>\n",
       "      <td>78.77</td>\n",
       "      <td>MASTECTOMY</td>\n",
       "      <td>2</td>\n",
       "      <td>NO</td>\n",
       "      <td>1</td>\n",
       "      <td>3.0</td>\n",
       "      <td>0</td>\n",
       "      <td>...</td>\n",
       "      <td>1</td>\n",
       "      <td>2.89</td>\n",
       "      <td>1</td>\n",
       "      <td>1</td>\n",
       "      <td>Primary</td>\n",
       "      <td>Female</td>\n",
       "      <td>5.230071</td>\n",
       "      <td>31.0</td>\n",
       "      <td>4.0</td>\n",
       "      <td>0</td>\n",
       "    </tr>\n",
       "    <tr>\n",
       "      <th>10</th>\n",
       "      <td>brca_metabric</td>\n",
       "      <td>MB-0028</td>\n",
       "      <td>MB-0028</td>\n",
       "      <td>86.41</td>\n",
       "      <td>BREAST CONSERVING</td>\n",
       "      <td>2</td>\n",
       "      <td>NO</td>\n",
       "      <td>1</td>\n",
       "      <td>3.0</td>\n",
       "      <td>0</td>\n",
       "      <td>...</td>\n",
       "      <td>1</td>\n",
       "      <td>36.09</td>\n",
       "      <td>0</td>\n",
       "      <td>1</td>\n",
       "      <td>Primary</td>\n",
       "      <td>Female</td>\n",
       "      <td>5.230071</td>\n",
       "      <td>16.0</td>\n",
       "      <td>2.0</td>\n",
       "      <td>0</td>\n",
       "    </tr>\n",
       "    <tr>\n",
       "      <th>11</th>\n",
       "      <td>brca_metabric</td>\n",
       "      <td>MB-0035</td>\n",
       "      <td>MB-0035</td>\n",
       "      <td>84.22</td>\n",
       "      <td>MASTECTOMY</td>\n",
       "      <td>0</td>\n",
       "      <td>NO</td>\n",
       "      <td>1</td>\n",
       "      <td>2.0</td>\n",
       "      <td>0</td>\n",
       "      <td>...</td>\n",
       "      <td>0</td>\n",
       "      <td>35.79</td>\n",
       "      <td>1</td>\n",
       "      <td>1</td>\n",
       "      <td>Primary</td>\n",
       "      <td>Female</td>\n",
       "      <td>6.537589</td>\n",
       "      <td>28.0</td>\n",
       "      <td>2.0</td>\n",
       "      <td>0</td>\n",
       "    </tr>\n",
       "  </tbody>\n",
       "</table>\n",
       "<p>5 rows × 29 columns</p>\n",
       "</div>"
      ],
      "text/plain": [
       "         Study ID Patient ID Sample ID  Age at Diagnosis  \\\n",
       "1   brca_metabric    MB-0002   MB-0002             43.19   \n",
       "4   brca_metabric    MB-0008   MB-0008             76.97   \n",
       "5   brca_metabric    MB-0010   MB-0010             78.77   \n",
       "10  brca_metabric    MB-0028   MB-0028             86.41   \n",
       "11  brca_metabric    MB-0035   MB-0035             84.22   \n",
       "\n",
       "   Type of Breast Surgery  Cellularity Chemotherapy  ER Status  \\\n",
       "1       BREAST CONSERVING            0           NO          1   \n",
       "4              MASTECTOMY            0          YES          1   \n",
       "5              MASTECTOMY            2           NO          1   \n",
       "10      BREAST CONSERVING            2           NO          1   \n",
       "11             MASTECTOMY            0           NO          1   \n",
       "\n",
       "    Neoplasm Histologic Grade  HER2 Status  ...  Radio Therapy  \\\n",
       "1                         3.0            0  ...              1   \n",
       "4                         3.0            0  ...              1   \n",
       "5                         3.0            0  ...              1   \n",
       "10                        3.0            0  ...              1   \n",
       "11                        2.0            0  ...              0   \n",
       "\n",
       "    Relapse Free Status (Months) Relapse Free Status  \\\n",
       "1                          83.52                   0   \n",
       "4                          18.55                   1   \n",
       "5                           2.89                   1   \n",
       "10                         36.09                   0   \n",
       "11                         35.79                   1   \n",
       "\n",
       "    Number of Samples Per Patient  Sample Type     Sex  TMB (nonsynonymous)  \\\n",
       "1                               1      Primary  Female             2.615035   \n",
       "4                               1      Primary  Female             2.615035   \n",
       "5                               1      Primary  Female             5.230071   \n",
       "10                              1      Primary  Female             5.230071   \n",
       "11                              1      Primary  Female             6.537589   \n",
       "\n",
       "    Tumor Size  Tumor Stage  Patient's Vital Status  \n",
       "1         10.0          1.0                       1  \n",
       "4         40.0          2.0                       0  \n",
       "5         31.0          4.0                       0  \n",
       "10        16.0          2.0                       0  \n",
       "11        28.0          2.0                       0  \n",
       "\n",
       "[5 rows x 29 columns]"
      ]
     },
     "execution_count": 164,
     "metadata": {},
     "output_type": "execute_result"
    }
   ],
   "source": [
    "newdf.head()"
   ]
  },
  {
   "cell_type": "code",
   "execution_count": 165,
   "id": "2d088aa3",
   "metadata": {},
   "outputs": [
    {
     "name": "stdout",
     "output_type": "stream",
     "text": [
      "[[169.02419352  12.61950325]\n",
      " [ 12.61950325 225.37631298]]\n"
     ]
    }
   ],
   "source": [
    "from numpy import cov\n",
    "\n",
    "covariance = cov(newdf['Age at Diagnosis'], newdf['Tumor Size'])\n",
    "print(covariance)"
   ]
  },
  {
   "cell_type": "code",
   "execution_count": 166,
   "id": "2a8cc3f6",
   "metadata": {},
   "outputs": [
    {
     "name": "stdout",
     "output_type": "stream",
     "text": [
      "Pearsons correlation: 0.065\n"
     ]
    }
   ],
   "source": [
    "from scipy.stats import pearsonr\n",
    "\n",
    "corr, _ = pearsonr(newdf['Age at Diagnosis'], newdf['Tumor Size'])\n",
    "print('Pearsons correlation: %.3f' % corr)"
   ]
  },
  {
   "cell_type": "code",
   "execution_count": 167,
   "id": "01e0ba0c",
   "metadata": {},
   "outputs": [
    {
     "name": "stdout",
     "output_type": "stream",
     "text": [
      "Spearmans correlation: 0.124\n"
     ]
    }
   ],
   "source": [
    "from scipy.stats import spearmanr\n",
    "\n",
    "corr, _ = spearmanr(newdf['Age at Diagnosis'], newdf['Tumor Size'])\n",
    "print('Spearmans correlation: %.3f' % corr)"
   ]
  },
  {
   "cell_type": "code",
   "execution_count": 168,
   "id": "6f62296a",
   "metadata": {},
   "outputs": [
    {
     "name": "stdout",
     "output_type": "stream",
     "text": [
      "Spearmans correlation: 0.211\n"
     ]
    }
   ],
   "source": [
    "from scipy.stats import spearmanr\n",
    "\n",
    "corr, _ = spearmanr(newdf['Age at Diagnosis'], newdf['ER Status'])\n",
    "print('Spearmans correlation: %.3f' % corr)"
   ]
  },
  {
   "cell_type": "code",
   "execution_count": 106,
   "id": "769b6d2e",
   "metadata": {},
   "outputs": [],
   "source": [
    "newdf=newdf.drop(['Cancer Type', 'Cancer Type Detailed', 'Pam50 + Claudin-low subtype', \n",
    "                  'ER status measured by IHC', 'Cohort','HER2 status measured by SNP6','Tumor Other Histologic Subtype',\n",
    "                  'Integrative Cluster', 'Oncotree Code','3-Gene classifier subtype'], axis=1)"
   ]
  },
  {
   "cell_type": "code",
   "execution_count": 127,
   "id": "9a18bbcc",
   "metadata": {},
   "outputs": [
    {
     "data": {
      "text/plain": [
       "Study ID                           object\n",
       "Patient ID                         object\n",
       "Sample ID                          object\n",
       "Age at Diagnosis                  float64\n",
       "Type of Breast Surgery             object\n",
       "Cellularity                          int8\n",
       "Chemotherapy                       object\n",
       "ER Status                            int8\n",
       "Neoplasm Histologic Grade         float64\n",
       "HER2 Status                          int8\n",
       "Hormone Therapy                      int8\n",
       "Inferred Menopausal State            int8\n",
       "Primary Tumor Laterality           object\n",
       "Lymph nodes examined positive     float64\n",
       "Mutation Count                    float64\n",
       "Nottingham prognostic index       float64\n",
       "Overall Survival (Months)         float64\n",
       "Overall Survival Status          category\n",
       "PR Status                            int8\n",
       "Radio Therapy                        int8\n",
       "Relapse Free Status (Months)      float64\n",
       "Relapse Free Status              category\n",
       "Number of Samples Per Patient       int64\n",
       "Sample Type                        object\n",
       "Sex                                object\n",
       "TMB (nonsynonymous)               float64\n",
       "Tumor Size                        float64\n",
       "Tumor Stage                       float64\n",
       "Patient's Vital Status               int8\n",
       "dtype: object"
      ]
     },
     "execution_count": 127,
     "metadata": {},
     "output_type": "execute_result"
    }
   ],
   "source": [
    "from sklearn.preprocessing import LabelEncoder\n",
    "labelencoder = LabelEncoder()\n",
    "\n",
    "newdf[\"Overall Survival Status\"] = newdf[\"Overall Survival Status\"].astype('category')\n",
    "newdf.dtypes"
   ]
  },
  {
   "cell_type": "code",
   "execution_count": 129,
   "id": "90afa33a",
   "metadata": {},
   "outputs": [],
   "source": [
    "newdf[\"Overall Survival Status\"]= newdf[\"Overall Survival Status\"].cat.codes"
   ]
  },
  {
   "cell_type": "code",
   "execution_count": 130,
   "id": "a408f5a9",
   "metadata": {
    "scrolled": true
   },
   "outputs": [
    {
     "data": {
      "text/plain": [
       "1       0\n",
       "4       1\n",
       "5       1\n",
       "10      1\n",
       "11      1\n",
       "       ..\n",
       "1697    1\n",
       "1698    0\n",
       "1700    1\n",
       "1702    0\n",
       "1743    0\n",
       "Name: Overall Survival Status, Length: 1092, dtype: int8"
      ]
     },
     "execution_count": 130,
     "metadata": {},
     "output_type": "execute_result"
    }
   ],
   "source": [
    "newdf[\"Overall Survival Status\"]"
   ]
  },
  {
   "cell_type": "code",
   "execution_count": 169,
   "id": "6e24be45",
   "metadata": {},
   "outputs": [
    {
     "data": {
      "text/plain": [
       "29"
      ]
     },
     "execution_count": 169,
     "metadata": {},
     "output_type": "execute_result"
    }
   ],
   "source": [
    "len(newdf.columns)"
   ]
  },
  {
   "cell_type": "code",
   "execution_count": 111,
   "id": "1ce985dd",
   "metadata": {},
   "outputs": [],
   "source": [
    "newdf[\"Patient's Vital Status\"] = newdf[\"Patient's Vital Status\"].replace(['Died of Other Causes'],'Dead')"
   ]
  },
  {
   "cell_type": "code",
   "execution_count": 132,
   "id": "03c44597",
   "metadata": {},
   "outputs": [
    {
     "data": {
      "text/plain": [
       "1       1\n",
       "4       0\n",
       "5       0\n",
       "10      0\n",
       "11      0\n",
       "       ..\n",
       "1697    0\n",
       "1698    1\n",
       "1700    0\n",
       "1702    1\n",
       "1743    1\n",
       "Name: Patient's Vital Status, Length: 1092, dtype: int8"
      ]
     },
     "execution_count": 132,
     "metadata": {},
     "output_type": "execute_result"
    }
   ],
   "source": [
    "newdf[\"Patient's Vital Status\"]"
   ]
  },
  {
   "cell_type": "code",
   "execution_count": 170,
   "id": "aceada75",
   "metadata": {},
   "outputs": [
    {
     "name": "stdout",
     "output_type": "stream",
     "text": [
      "Shape of training feature: (819, 15)\n",
      "Shape of testing feature: (273, 15)\n"
     ]
    }
   ],
   "source": [
    "#select features\n",
    "feature = newdf[['Age at Diagnosis', 'Mutation Count', 'ER Status', 'HER2 Status', \n",
    "                 'Tumor Size', 'Tumor Stage', \"TMB (nonsynonymous)\", 'Cellularity', \n",
    "                 'Nottingham prognostic index', 'Hormone Therapy', 'Inferred Menopausal State', \n",
    "                 'PR Status' ,'Radio Therapy', 'Relapse Free Status', 'Lymph nodes examined positive']]\n",
    "    \n",
    "\n",
    "\n",
    "# Select Target\n",
    "target = newdf['Overall Survival Status']\n",
    "\n",
    "# Set Training and Testing Data\n",
    "from sklearn.model_selection import train_test_split\n",
    "X_train, X_test, y_train, y_test = train_test_split(feature , target, \n",
    "                                                    shuffle = True, \n",
    "                                                    test_size=0.25, \n",
    "                                                    random_state=1)\n",
    "\n",
    "# Show the Training and Testing Data\n",
    "print('Shape of training feature:', X_train.shape)\n",
    "print('Shape of testing feature:', X_test.shape)\n",
    "# print('Shape of training label:', y_train.shape)\n",
    "# print('Shape of testing label:', y_test.shape)"
   ]
  },
  {
   "cell_type": "code",
   "execution_count": 171,
   "id": "1fa8f2ed",
   "metadata": {},
   "outputs": [],
   "source": [
    "#function to evaluate each trained model\n",
    "def evaluate_model(model, x_test, y_test):\n",
    "    from sklearn import metrics\n",
    "\n",
    "    # Predict Test Data \n",
    "    y_pred = model.predict(x_test)\n",
    "\n",
    "    # Calculate accuracy, precision, recall, f1-score, and kappa score\n",
    "    acc = metrics.accuracy_score(y_test, y_pred)\n",
    "    prec = metrics.precision_score(y_test, y_pred)\n",
    "    rec = metrics.recall_score(y_test, y_pred)\n",
    "    f1 = metrics.f1_score(y_test, y_pred)\n",
    "    kappa = metrics.cohen_kappa_score(y_test, y_pred)\n",
    "\n",
    "    # Calculate area under curve (AUC)\n",
    "    y_pred_proba = model.predict_proba(x_test)[::,1]\n",
    "    fpr, tpr, _ = metrics.roc_curve(y_test, y_pred_proba)\n",
    "    auc = metrics.roc_auc_score(y_test, y_pred_proba)\n",
    "\n",
    "    # Display confussion matrix\n",
    "    cm = metrics.confusion_matrix(y_test, y_pred)\n",
    "\n",
    "    return {'acc': acc, 'prec': prec, 'rec': rec, 'f1': f1, 'kappa': kappa, \n",
    "            'fpr': fpr, 'tpr': tpr, 'auc': auc, 'cm': cm}"
   ]
  },
  {
   "cell_type": "code",
   "execution_count": 172,
   "id": "dd411c8f",
   "metadata": {},
   "outputs": [
    {
     "data": {
      "text/plain": [
       "DecisionTreeClassifier(random_state=0)"
      ]
     },
     "execution_count": 172,
     "metadata": {},
     "output_type": "execute_result"
    }
   ],
   "source": [
    "#Building Decision Tree Model\n",
    "from sklearn import tree\n",
    "\n",
    "dtc =  tree.DecisionTreeClassifier(random_state=0)\n",
    "dtc.fit(X_train, y_train)"
   ]
  },
  {
   "cell_type": "code",
   "execution_count": 173,
   "id": "4d369a59",
   "metadata": {},
   "outputs": [
    {
     "name": "stdout",
     "output_type": "stream",
     "text": [
      "Accuracy: 0.7545787545787546\n",
      "Precision: 0.756578947368421\n",
      "Recall: 0.7931034482758621\n",
      "F1 Score: 0.7744107744107743\n",
      "Cohens Kappa Score: 0.5056620091348882\n",
      "Area Under Curve: 0.752020474137931\n",
      "Confusion Matrix:\n",
      " [[ 91  37]\n",
      " [ 30 115]]\n"
     ]
    }
   ],
   "source": [
    "#Model Evaluation\n",
    "dtc_eval = evaluate_model(dtc, X_test, y_test)\n",
    "\n",
    "print('Accuracy:', dtc_eval['acc'])\n",
    "print('Precision:', dtc_eval['prec'])\n",
    "print('Recall:', dtc_eval['rec'])\n",
    "print('F1 Score:', dtc_eval['f1'])\n",
    "print('Cohens Kappa Score:', dtc_eval['kappa'])\n",
    "print('Area Under Curve:', dtc_eval['auc'])\n",
    "print('Confusion Matrix:\\n', dtc_eval['cm'])"
   ]
  },
  {
   "cell_type": "code",
   "execution_count": 174,
   "id": "6f319206",
   "metadata": {},
   "outputs": [
    {
     "data": {
      "text/plain": [
       "RandomForestClassifier(random_state=0)"
      ]
     },
     "execution_count": 174,
     "metadata": {},
     "output_type": "execute_result"
    }
   ],
   "source": [
    "#Building Random Forest Model\n",
    "from sklearn.ensemble import RandomForestClassifier\n",
    "\n",
    "rf= RandomForestClassifier(random_state=0)\n",
    "rf.fit(X_train, y_train)"
   ]
  },
  {
   "cell_type": "code",
   "execution_count": 175,
   "id": "8a95e88c",
   "metadata": {},
   "outputs": [
    {
     "name": "stdout",
     "output_type": "stream",
     "text": [
      "Accuracy: 0.8278388278388278\n",
      "Precision: 0.8266666666666667\n",
      "Recall: 0.8551724137931035\n",
      "F1 Score: 0.840677966101695\n",
      "Cohens Kappa Score: 0.6535439449169704\n",
      "Area Under Curve: 0.8810883620689655\n",
      "Confusion Matrix:\n",
      " [[102  26]\n",
      " [ 21 124]]\n"
     ]
    }
   ],
   "source": [
    "rf_eval = evaluate_model(rf, X_test, y_test)\n",
    "\n",
    "print('Accuracy:', rf_eval['acc'])\n",
    "print('Precision:', rf_eval['prec'])\n",
    "print('Recall:', rf_eval['rec'])\n",
    "print('F1 Score:', rf_eval['f1'])\n",
    "print('Cohens Kappa Score:', rf_eval['kappa'])\n",
    "print('Area Under Curve:', rf_eval['auc'])\n",
    "print('Confusion Matrix:\\n', rf_eval['cm'])"
   ]
  },
  {
   "cell_type": "code",
   "execution_count": 176,
   "id": "0b5f5737",
   "metadata": {},
   "outputs": [
    {
     "data": {
      "text/plain": [
       "GaussianNB()"
      ]
     },
     "execution_count": 176,
     "metadata": {},
     "output_type": "execute_result"
    }
   ],
   "source": [
    "#Building Naive Bayes Model\n",
    "from sklearn.naive_bayes import GaussianNB\n",
    "\n",
    "nb=GaussianNB()\n",
    "nb.fit(X_train, y_train)"
   ]
  },
  {
   "cell_type": "code",
   "execution_count": 177,
   "id": "bd8651af",
   "metadata": {},
   "outputs": [
    {
     "name": "stdout",
     "output_type": "stream",
     "text": [
      "Accuracy: 0.73992673992674\n",
      "Precision: 0.7890625\n",
      "Recall: 0.696551724137931\n",
      "F1 Score: 0.73992673992674\n",
      "Cohens Kappa Score: 0.48186265337218315\n",
      "Area Under Curve: 0.8258620689655173\n",
      "Confusion Matrix:\n",
      " [[101  27]\n",
      " [ 44 101]]\n"
     ]
    }
   ],
   "source": [
    "nb_eval = evaluate_model(nb, X_test, y_test)\n",
    "\n",
    "print('Accuracy:', nb_eval['acc'])\n",
    "print('Precision:', nb_eval['prec'])\n",
    "print('Recall:', nb_eval['rec'])\n",
    "print('F1 Score:', nb_eval['f1'])\n",
    "print('Cohens Kappa Score:', nb_eval['kappa'])\n",
    "print('Area Under Curve:', nb_eval['auc'])\n",
    "print('Confusion Matrix:\\n', nb_eval['cm'])"
   ]
  },
  {
   "cell_type": "code",
   "execution_count": 178,
   "id": "d0d9edcb",
   "metadata": {},
   "outputs": [
    {
     "data": {
      "text/plain": [
       "KNeighborsClassifier()"
      ]
     },
     "execution_count": 178,
     "metadata": {},
     "output_type": "execute_result"
    }
   ],
   "source": [
    "#Building K-Nearest Neighbors Model\n",
    "from sklearn.neighbors import KNeighborsClassifier\n",
    "\n",
    "# Building KNN model \n",
    "knn = KNeighborsClassifier()\n",
    "knn.fit(X_train, y_train)"
   ]
  },
  {
   "cell_type": "code",
   "execution_count": 179,
   "id": "56cddc47",
   "metadata": {},
   "outputs": [
    {
     "name": "stdout",
     "output_type": "stream",
     "text": [
      "Accuracy: 0.706959706959707\n",
      "Precision: 0.7044025157232704\n",
      "Recall: 0.7724137931034483\n",
      "F1 Score: 0.7368421052631577\n",
      "Cohens Kappa Score: 0.40784122336098916\n",
      "Area Under Curve: 0.7314924568965516\n",
      "Confusion Matrix:\n",
      " [[ 81  47]\n",
      " [ 33 112]]\n"
     ]
    }
   ],
   "source": [
    "# Evaluate Model\n",
    "knn_eval = evaluate_model(knn, X_test, y_test)\n",
    "\n",
    "# Print result\n",
    "print('Accuracy:', knn_eval['acc'])\n",
    "print('Precision:', knn_eval['prec'])\n",
    "print('Recall:', knn_eval['rec'])\n",
    "print('F1 Score:', knn_eval['f1'])\n",
    "print('Cohens Kappa Score:', knn_eval['kappa'])\n",
    "print('Area Under Curve:', knn_eval['auc'])\n",
    "print('Confusion Matrix:\\n', knn_eval['cm'])"
   ]
  },
  {
   "cell_type": "code",
   "execution_count": 180,
   "id": "23febb38",
   "metadata": {},
   "outputs": [
    {
     "data": {
      "image/png": "[encoded data removed]",
      "text/plain": [
       "<Figure size 1008x504 with 2 Axes>"
      ]
     },
     "metadata": {},
     "output_type": "display_data"
    }
   ],
   "source": [
    "import matplotlib.pyplot as plt\n",
    "import numpy as np\n",
    "\n",
    "# Intitialize figure with two plots\n",
    "fig, (ax1, ax2) = plt.subplots(1, 2)\n",
    "fig.suptitle('Model Comparison', fontsize=16, fontweight='bold')\n",
    "fig.set_figheight(7)\n",
    "fig.set_figwidth(14)\n",
    "fig.set_facecolor('white')\n",
    "\n",
    "# First plot\n",
    "## set bar size\n",
    "barWidth = 0.2\n",
    "dtc_score = [dtc_eval['acc'], dtc_eval['prec'], dtc_eval['rec'], dtc_eval['f1'], dtc_eval['kappa']]\n",
    "rf_score = [rf_eval['acc'], rf_eval['prec'], rf_eval['rec'], rf_eval['f1'], rf_eval['kappa']]\n",
    "nb_score = [nb_eval['acc'], nb_eval['prec'], nb_eval['rec'], nb_eval['f1'], nb_eval['kappa']]\n",
    "knn_score = [knn_eval['acc'], knn_eval['prec'], knn_eval['rec'], knn_eval['f1'], knn_eval['kappa']]\n",
    "\n",
    "## Set position of bar on X axis\n",
    "r1 = np.arange(len(dtc_score))\n",
    "r2 = [x + barWidth for x in r1]\n",
    "r3 = [x + barWidth for x in r2]\n",
    "r4 = [x + barWidth for x in r3]\n",
    "\n",
    "## Make the plot\n",
    "ax1.bar(r1, dtc_score, width=barWidth, edgecolor='white', label='Decision Tree')\n",
    "ax1.bar(r2, rf_score, width=barWidth, edgecolor='white', label='Random Forest')\n",
    "ax1.bar(r3, nb_score, width=barWidth, edgecolor='white', label='Naive Bayes')\n",
    "ax1.bar(r4, knn_score, width=barWidth, edgecolor='white', label='K-Nearest Neighbors')\n",
    "\n",
    "## Configure x and y axis\n",
    "ax1.set_xlabel('Metrics', fontweight='bold')\n",
    "labels = ['Accuracy', 'Precision', 'Recall', 'F1', 'Kappa']\n",
    "ax1.set_xticks([r + (barWidth * 1.5) for r in range(len(dtc_score))], )\n",
    "ax1.set_xticklabels(labels)\n",
    "ax1.set_ylabel('Score', fontweight='bold')\n",
    "ax1.set_ylim(0, 1)\n",
    "\n",
    "## Create legend & title\n",
    "ax1.set_title('Evaluation Metrics', fontsize=14, fontweight='bold')\n",
    "ax1.legend()\n",
    "\n",
    "# Second plot\n",
    "## Comparing ROC Curve\n",
    "ax2.plot(dtc_eval['fpr'], dtc_eval['tpr'], label='Decision Tree, auc = {:0.5f}'.format(dtc_eval['auc']))\n",
    "ax2.plot(rf_eval['fpr'], rf_eval['tpr'], label='Random Forest, auc = {:0.5f}'.format(rf_eval['auc']))\n",
    "ax2.plot(nb_eval['fpr'], nb_eval['tpr'], label='Naive Bayes, auc = {:0.5f}'.format(nb_eval['auc']))\n",
    "ax2.plot(knn_eval['fpr'], knn_eval['tpr'], label='K-Nearest Nieghbor, auc = {:0.5f}'.format(knn_eval['auc']))\n",
    "\n",
    "## Configure x and y axis\n",
    "ax2.set_xlabel('False Positive Rate', fontweight='bold')\n",
    "ax2.set_ylabel('True Positive Rate', fontweight='bold')\n",
    "\n",
    "## Create legend & title\n",
    "ax2.set_title('ROC Curve', fontsize=14, fontweight='bold')\n",
    "ax2.legend(loc=4)\n",
    "\n",
    "plt.show()"
   ]
  },
  {
   "cell_type": "code",
   "execution_count": 1,
   "id": "e48a1978",
   "metadata": {
    "scrolled": true
   },
   "outputs": [
    {
     "ename": "NameError",
     "evalue": "name 'newdf' is not defined",
     "output_type": "error",
     "traceback": [
      "\u001b[1;31m---------------------------------------------------------------------------\u001b[0m",
      "\u001b[1;31mNameError\u001b[0m                                 Traceback (most recent call last)",
      "\u001b[1;32m<ipython-input-1-8f33233e90be>\u001b[0m in \u001b[0;36m<module>\u001b[1;34m\u001b[0m\n\u001b[0;32m      1\u001b[0m \u001b[1;32mimport\u001b[0m \u001b[0mpandas\u001b[0m \u001b[1;32mas\u001b[0m \u001b[0mpd\u001b[0m\u001b[1;33m\u001b[0m\u001b[1;33m\u001b[0m\u001b[0m\n\u001b[0;32m      2\u001b[0m \u001b[1;33m\u001b[0m\u001b[0m\n\u001b[1;32m----> 3\u001b[1;33m \u001b[0mcorr\u001b[0m \u001b[1;33m=\u001b[0m \u001b[0mnewdf\u001b[0m\u001b[1;33m.\u001b[0m\u001b[0mcorr\u001b[0m\u001b[1;33m(\u001b[0m\u001b[1;33m)\u001b[0m\u001b[1;33m\u001b[0m\u001b[1;33m\u001b[0m\u001b[0m\n\u001b[0m\u001b[0;32m      4\u001b[0m \u001b[0mcorr\u001b[0m\u001b[1;33m.\u001b[0m\u001b[0mstyle\u001b[0m\u001b[1;33m.\u001b[0m\u001b[0mbackground_gradient\u001b[0m\u001b[1;33m(\u001b[0m\u001b[0mcmap\u001b[0m\u001b[1;33m=\u001b[0m\u001b[1;34m'coolwarm'\u001b[0m\u001b[1;33m)\u001b[0m\u001b[1;33m\u001b[0m\u001b[1;33m\u001b[0m\u001b[0m\n\u001b[0;32m      5\u001b[0m \u001b[1;31m# plt.savefig(\"Correlation Heatmap.jpg\")\u001b[0m\u001b[1;33m\u001b[0m\u001b[1;33m\u001b[0m\u001b[1;33m\u001b[0m\u001b[0m\n",
      "\u001b[1;31mNameError\u001b[0m: name 'newdf' is not defined"
     ]
    }
   ],
   "source": [
    "import pandas as pd\n",
    "\n",
    "corr = newdf.corr()\n",
    "corr.style.background_gradient(cmap='coolwarm')\n",
    "# plt.savefig(\"Correlation Heatmap.jpg\")\n"
   ]
  },
  {
   "cell_type": "code",
   "execution_count": 182,
   "id": "16eb8699",
   "metadata": {},
   "outputs": [],
   "source": [
    "savedf = df.dropna()"
   ]
  },
  {
   "cell_type": "code",
   "execution_count": 157,
   "id": "21cefc2b",
   "metadata": {},
   "outputs": [],
   "source": [
    "savedf.to_excel(r'C:\\Users\\Dami\\Documents\\new_cancer.xlsx')"
   ]
  },
  {
   "cell_type": "code",
   "execution_count": null,
   "id": "6df989cf",
   "metadata": {},
   "outputs": [],
   "source": []
  }
 ],
 "metadata": {
  "kernelspec": {
   "display_name": "Python 3",
   "language": "python",
   "name": "python3"
  },
  "language_info": {
   "codemirror_mode": {
    "name": "ipython",
    "version": 3
   },
   "file_extension": ".py",
   "mimetype": "text/x-python",
   "name": "python",
   "nbconvert_exporter": "python",
   "pygments_lexer": "ipython3",
   "version": "3.8.8"
  }
 },
 "nbformat": 4,
 "nbformat_minor": 5
}
